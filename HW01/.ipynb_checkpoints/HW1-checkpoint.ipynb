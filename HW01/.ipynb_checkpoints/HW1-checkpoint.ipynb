{
 "cells": [
  {
   "cell_type": "code",
   "execution_count": 7,
   "metadata": {},
   "outputs": [],
   "source": [
    "def calorie_count():\n",
    "    a=input(\"How many hamburgers would you like? \")\n",
    "    b=input(\"How many orders of french fries would you like? \")\n",
    "    c=input(\"How many carrot sticks would you like? \")\n",
    "    d=input(\"How many minutes did you walk? \")\n",
    "    result=int(a)*400+int(b)*200+int(c)*25-int(d)*5\n",
    "    print(a,'hamburgers,', b, 'orders of french fries,',c, 'carrot sticks', 'and',d, 'minutes walked is' ,result, 'calories.')           "
   ]
  },
  {
   "cell_type": "code",
   "execution_count": 76,
   "metadata": {},
   "outputs": [
    {
     "name": "stdout",
     "output_type": "stream",
     "text": [
      "How many hamburgers would you like?8\n",
      "How many orders of french fries would you like?3\n",
      "How many carrot sticks would you like?4\n",
      "How many minutes did you walk?3\n",
      "8 hamburgers, 3 orders of french fries, 4 carrot sticks and 3 minutes walked is 3885 calories\n"
     ]
    }
   ],
   "source": [
    "calorie_count()"
   ]
  },
  {
   "cell_type": "code",
   "execution_count": 36,
   "metadata": {},
   "outputs": [],
   "source": [
    "import math\n",
    "def cone_volume():\n",
    "    a=input(\"What is the height of the cone?\")\n",
    "    b=input(\"What is the radius of the cone?\")\n",
    "    pi = math.pi\n",
    "    v=pi*float(b)**2*(float(a)/3)\n",
    "    v=round(v,2)\n",
    "    print('The volume of a cone with a height of', float(a),'and a radius of', float(b), 'is',v,'.')\n",
    "    "
   ]
  },
  {
   "cell_type": "code",
   "execution_count": 29,
   "metadata": {},
   "outputs": [],
   "source": [
    "def watch_time():\n",
    "    m=input(\"How many movies have you watched?\")\n",
    "    b=input(\"How many TV show episodes have you watched?\")\n",
    "    t=int(m)*110+int(b)*25\n",
    "    t1=t//60\n",
    "    t2=t%60\n",
    "    print('By watching', int(m), 'movies and', int(b),'TV show episodes, you have spent', int(t1), \n",
    "          'hour(s)and', int(t2), 'minutes on Disney+.')"
   ]
  },
  {
   "cell_type": "code",
   "execution_count": 56,
   "metadata": {},
   "outputs": [],
   "source": [
    "def liquid_conversion():\n",
    "    c=input(\"How many cups of water did you drink?\")\n",
    "    c=int(c)\n",
    "    gallon=c//16\n",
    "    a=c%16\n",
    "    quart=a//4\n",
    "    b=a%4\n",
    "    pint=b//2\n",
    "    cup=c-gallon*16-quart*4-pint*2\n",
    "    print('You drank', gallon ,'gallon(s),', quart ,'quart(s),',pint,' pint(s), and', cup, 'cup(s) of water.')\n",
    "    "
   ]
  },
  {
   "cell_type": "code",
   "execution_count": 72,
   "metadata": {},
   "outputs": [],
   "source": [
    "def savings_calculator():\n",
    "    p=input(\"What is the principal? \")\n",
    "    r=input(\"What is the interest rate? \")\n",
    "    t=input(\"How many months have passed? \")\n",
    "    money=float(p)*(1+float(r)/100*(int(t)/12))\n",
    "    money=round(money,2)\n",
    "    print('You will have', '$',money,'at the end of', t, 'months.')"
   ]
  },
  {
   "cell_type": "code",
   "execution_count": null,
   "metadata": {},
   "outputs": [],
   "source": []
  }
 ],
 "metadata": {
  "kernelspec": {
   "display_name": "Python 3",
   "language": "python",
   "name": "python3"
  },
  "language_info": {
   "codemirror_mode": {
    "name": "ipython",
    "version": 3
   },
   "file_extension": ".py",
   "mimetype": "text/x-python",
   "name": "python",
   "nbconvert_exporter": "python",
   "pygments_lexer": "ipython3",
   "version": "3.7.2"
  }
 },
 "nbformat": 4,
 "nbformat_minor": 2
}
