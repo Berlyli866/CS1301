{
 "cells": [
  {
   "cell_type": "markdown",
   "metadata": {},
   "source": [
    "HW 4 "
   ]
  },
  {
   "cell_type": "code",
   "execution_count": 992,
   "metadata": {},
   "outputs": [],
   "source": [
    "def noteTaker(notes):\n",
    "    symbol='.,?!@:'\n",
    "    new= \"\"\n",
    "    l=[]\n",
    "    j=[i for i,j in enumerate(notes) if j.isupper()]\n",
    "    if j[0]!=0:\n",
    "            notes=notes[j[0]:]\n",
    "            for i in range(len(notes)):\n",
    "                if i <=int(len(notes)-3):\n",
    "                    if notes[i] in symbol and  notes[i+2].isupper():\n",
    "                        new +=notes[i]\n",
    "                    elif notes[i] not in symbol:\n",
    "                        new +=notes[i]\n",
    "                elif i <len(notes)-1:\n",
    "                    if notes[i] not in symbol:\n",
    "                        new +=notes[i]\n",
    "            else:\n",
    "                new +=notes[i]\n",
    "            \n",
    "        \n",
    "    else:\n",
    "        for i in range(len(notes)):\n",
    "            if i <=int(len(notes)-3):\n",
    "                if notes[i] in symbol and  notes[i+2].isupper():\n",
    "                    new +=notes[i]\n",
    "                elif notes[i] not in symbol  :\n",
    "                    new +=notes[i]\n",
    "            elif i <len(notes)-1:\n",
    "                 if notes[i] not in symbol:\n",
    "                    new +=notes[i]\n",
    "           \n",
    "            else:\n",
    "                new +=notes[i]       \n",
    "        \n",
    "    return new\n",
    "            "
   ]
  },
  {
   "cell_type": "code",
   "execution_count": 993,
   "metadata": {},
   "outputs": [
    {
     "data": {
      "text/plain": [
       "'Up with the white and gold // Down with the red and black // Georgia Tech is out for the victory!'"
      ]
     },
     "execution_count": 993,
     "metadata": {},
     "output_type": "execute_result"
    }
   ],
   "source": [
    "\n",
    "notes='?Up wi:.th the whi@te an!d go?ld // D,.own wit:h t?he re@@d a!!nd bl:a?ck // Ge.org!ia Te?ch i!s o,,ut fo:r th?e v@ic,to.r!y!'\n",
    "noteTaker(notes)\n",
    "\n"
   ]
  },
  {
   "cell_type": "code",
   "execution_count": 994,
   "metadata": {},
   "outputs": [],
   "source": [
    "notes='CS!@1301 i.,s a c!ool c?lass wh..ere yo!u ca,:n learn to cod.e i@n P!y!t!h!o!n. Did yo!,u kn:o?w tha@t Disn.ey use@s Python!!! fo:?r th,ei.r a@nimati!ons?'"
   ]
  },
  {
   "cell_type": "code",
   "execution_count": 995,
   "metadata": {},
   "outputs": [
    {
     "data": {
      "text/plain": [
       "'CS1301 is a cool class where you can learn to code in Python. Did you know that Disney uses Python for their animations?'"
      ]
     },
     "execution_count": 995,
     "metadata": {},
     "output_type": "execute_result"
    }
   ],
   "source": [
    "noteTaker(notes)"
   ]
  },
  {
   "cell_type": "code",
   "execution_count": 996,
   "metadata": {},
   "outputs": [
    {
     "data": {
      "text/plain": [
       "'CS1301-- what.YY a cool class?'"
      ]
     },
     "execution_count": 996,
     "metadata": {},
     "output_type": "execute_result"
    }
   ],
   "source": [
    "notes = '?...CS1301,,,-- wh:at.YY a c@!ool c?lass.?'\n",
    "\n",
    "noteTaker(notes)"
   ]
  },
  {
   "cell_type": "code",
   "execution_count": 986,
   "metadata": {},
   "outputs": [],
   "source": [
    "\"\"\"\n",
    "Function name: foodDesertLocator()\n",
    "Parameters: cities (list)\n",
    "Returns: (list)\n",
    "\"\"\"\n",
    "\n",
    "\n",
    "def foodDesertLocator(cities):\n",
    "    a=[]\n",
    "    for i in range(len(cities)):\n",
    "        if i%2==1:\n",
    "            a.append(cities[i])\n",
    "    avg=sum(a)/len(a)\n",
    "    c=[]\n",
    "    for item in a:\n",
    "        if item >avg:\n",
    "            c.append(item)\n",
    "    b=[i-1 for i,j in enumerate(cities) if j in c] \n",
    "    city=[]\n",
    "    for item in b:\n",
    "        city.append(cities[item])\n",
    "    return city\n",
    "    \n"
   ]
  },
  {
   "cell_type": "code",
   "execution_count": 987,
   "metadata": {},
   "outputs": [
    {
     "data": {
      "text/plain": [
       "['New York City', 'Atlanta', 'Camden']"
      ]
     },
     "execution_count": 987,
     "metadata": {},
     "output_type": "execute_result"
    }
   ],
   "source": [
    "c=['New York City', 3000000, 'Atlanta', 2000000, 'Detroit', 30000, 'Chicago', 500000, 'Camden', 900000, 'San Francisco', 125000, 'Seattle', 125000, 'New Orleans', 50000]\n",
    "foodDesertLocator(c) "
   ]
  },
  {
   "cell_type": "code",
   "execution_count": 988,
   "metadata": {},
   "outputs": [
    {
     "data": {
      "text/plain": [
       "['New York City', 'Atlanta']"
      ]
     },
     "execution_count": 988,
     "metadata": {},
     "output_type": "execute_result"
    }
   ],
   "source": [
    "c=(['New York City', 3000000, 'Atlanta', 2000000, 'Detroit', 30000, 'New Orleans', 50000])\n",
    "foodDesertLocator(c)  "
   ]
  },
  {
   "cell_type": "code",
   "execution_count": 989,
   "metadata": {},
   "outputs": [
    {
     "data": {
      "text/plain": [
       "['New York City', 'Atlanta']"
      ]
     },
     "execution_count": 989,
     "metadata": {},
     "output_type": "execute_result"
    }
   ],
   "source": [
    "cities = ['New York City', 3000000, 'Atlanta', 2000000, 'Detroit', 30000, 'New Orleans', 50000]\n",
    "foodDesertLocator(cities )"
   ]
  },
  {
   "cell_type": "code",
   "execution_count": 990,
   "metadata": {},
   "outputs": [
    {
     "data": {
      "text/plain": [
       "['San Francisco', 'Seattle']"
      ]
     },
     "execution_count": 990,
     "metadata": {},
     "output_type": "execute_result"
    }
   ],
   "source": [
    "cities=['San Francisco', 125000, 'Seattle', 125000, 'New Orleans', 50000]\n",
    "foodDesertLocator(cities )"
   ]
  },
  {
   "cell_type": "code",
   "execution_count": 991,
   "metadata": {},
   "outputs": [
    {
     "data": {
      "text/plain": [
       "['New York City', 'Atlanta']"
      ]
     },
     "execution_count": 991,
     "metadata": {},
     "output_type": "execute_result"
    }
   ],
   "source": [
    "cities=['New York City', 3000000, 'Atlanta', 2000000, 'Detroit', 30000, 'New Orleans', 50000]\n",
    "foodDesertLocator(cities )"
   ]
  },
  {
   "cell_type": "code",
   "execution_count": 859,
   "metadata": {},
   "outputs": [],
   "source": [
    "\"\"\"\n",
    "Function name: messageEncoder()\n",
    "Parameters: message (string)\n",
    "Returns: encodedMessage (string)\n",
    "\"\"\"\n",
    "\n",
    "def messageEncoder(message):\n",
    "    if message !=\"\":\n",
    "        c=[]\n",
    "        message=message.split()\n",
    "        for i in range(len(message)):\n",
    "            if i %2 ==0:\n",
    "                upper=message[i].upper()\n",
    "                c.append(upper)\n",
    "            else:\n",
    "                lower=message[i].lower()\n",
    "                c.append(lower)\n",
    "        c=\" \".join(c)\n",
    "    else:\n",
    "        c=None\n",
    "        \n",
    "    return c"
   ]
  },
  {
   "cell_type": "code",
   "execution_count": 860,
   "metadata": {},
   "outputs": [
    {
     "data": {
      "text/plain": [
       "'I woke UP, couple MIL on MY plate'"
      ]
     },
     "execution_count": 860,
     "metadata": {},
     "output_type": "execute_result"
    }
   ],
   "source": [
    "message = \"I woke up, couple mil on my plate\"\n",
    "messageEncoder(message)\n"
   ]
  },
  {
   "cell_type": "code",
   "execution_count": 861,
   "metadata": {},
   "outputs": [
    {
     "data": {
      "text/plain": [
       "'I just WENT gave MY mama A hundred'"
      ]
     },
     "execution_count": 861,
     "metadata": {},
     "output_type": "execute_result"
    }
   ],
   "source": [
    "message = \"I just went gave my mama a hundred\"\n",
    "messageEncoder(message)"
   ]
  },
  {
   "cell_type": "code",
   "execution_count": 862,
   "metadata": {},
   "outputs": [
    {
     "data": {
      "text/plain": [
       "''"
      ]
     },
     "execution_count": 862,
     "metadata": {},
     "output_type": "execute_result"
    }
   ],
   "source": [
    "message =\"   \"\n",
    "messageEncoder(message)"
   ]
  },
  {
   "cell_type": "code",
   "execution_count": 378,
   "metadata": {},
   "outputs": [],
   "source": [
    "\n",
    "\"\"\"\n",
    "Function name: courseCreator()\n",
    "Parameters: courseList (list)\n",
    "Returns: newCourse (str)\n",
    "\"\"\"\n",
    "\n",
    "\n",
    "\n",
    "def courseCreator(courselist):\n",
    "    if courselist !=[]:\n",
    "        Num=[]\n",
    "        Char=[]\n",
    "        for i in range(len(courselist)):\n",
    "            a=courselist[i]\n",
    "            b=list(a)\n",
    "            number=\"\"\n",
    "            char=\"\"\n",
    "            for item in b:\n",
    "                if item.isdigit():\n",
    "                    num=item\n",
    "                    number +=num\n",
    "                else:\n",
    "                    char +=item \n",
    "            Num.append(number)\n",
    "            Char.append(char)\n",
    "        Num=[int(item) for item in Num]     \n",
    "        new_num=sum(Num)//len(Num)\n",
    "        new_num=str(new_num)\n",
    "    \n",
    "        if len(new_num)==1:\n",
    "            new_num=str(\"000\")+str(new_num)\n",
    "        elif len(new_num)==2:\n",
    "            new_num=str(\"00\")+str(new_num)\n",
    "        elif  new_num==3:\n",
    "            new_num=str(\"0\")+str(new_num)\n",
    "        else:\n",
    "            new_num=new_num         \n",
    "        new_course=str(Char[1])+str(new_num)\n",
    "\n",
    "    else:\n",
    "        new_course=None\n",
    "    return new_course\n",
    "    "
   ]
  },
  {
   "cell_type": "code",
   "execution_count": 379,
   "metadata": {},
   "outputs": [
    {
     "name": "stdout",
     "output_type": "stream",
     "text": [
      "CS2136\n"
     ]
    }
   ],
   "source": [
    "c=[\"CS1301\", \"CS1331\", \"CS1332\", \"CS2316\", \"CS4400\"]\n",
    "print(courseCreator(c))"
   ]
  },
  {
   "cell_type": "code",
   "execution_count": 380,
   "metadata": {},
   "outputs": [
    {
     "name": "stdout",
     "output_type": "stream",
     "text": [
      "MATH0006\n"
     ]
    }
   ],
   "source": [
    "courseList = [\"MATH0001\",\"MATH0012\"]\n",
    "print(courseCreator(courseList))"
   ]
  },
  {
   "cell_type": "code",
   "execution_count": 381,
   "metadata": {},
   "outputs": [
    {
     "name": "stdout",
     "output_type": "stream",
     "text": [
      "None\n"
     ]
    }
   ],
   "source": [
    "courseList = []\n",
    "print(courseCreator(courseList))"
   ]
  },
  {
   "cell_type": "code",
   "execution_count": null,
   "metadata": {},
   "outputs": [],
   "source": [
    "\"\"\"\n",
    "Function name: compoundWords()\n",
    "Parameters: wordsList (list), num (int)\n",
    "Returns: matchedWords (list)\n",
    "\"\"\"\n",
    "\n",
    "\n",
    "def compoundWords(wordsList,num):\n",
    "    count=0\n",
    "    for i in range(len(wordsList)):\n",
    "        word=\"\"\n",
    "        a=len(wordsList[i])\n",
    "        if i+1<=len(wordsList)-1:\n",
    "            b=len(wordsList[i+1])\n",
    "            if a+b==num:\n",
    "                word +=wordsList[i]\n",
    "                word +=wordsList[i+1]\n",
    "        else:\n",
    "            a=len(wordsList[i])\n",
    "            \n",
    "            "
   ]
  },
  {
   "cell_type": "code",
   "execution_count": 583,
   "metadata": {},
   "outputs": [],
   "source": [
    "\n",
    "\n",
    "def compoundWords(wordsList,num):\n",
    "    if wordsList !=[]:\n",
    "        count=0\n",
    "        W=[]\n",
    "        for i in range(len(wordsList)):\n",
    "            a=wordsList[i]\n",
    "            count +=1  \n",
    "            for j in range(count,len(wordsList)):\n",
    "                b=wordsList[j]\n",
    "                L=len(a)+len(b)\n",
    "                if L==num:\n",
    "                    new=str(a)+str(b)\n",
    "                    W.append(new)\n",
    "    else:\n",
    "        W=\"None\"\n",
    "    return W           \n",
    "                \n",
    "           \n",
    "  \n",
    "                \n",
    "                \n",
    "        \n",
    "        \n",
    "            \n",
    "                \n",
    "           \n",
    "       \n",
    "        "
   ]
  },
  {
   "cell_type": "code",
   "execution_count": 867,
   "metadata": {},
   "outputs": [],
   "source": [
    "def compoundWords(wordsList,num):\n",
    "    if wordsList !=[]:\n",
    "        l=[j for i,j in enumerate(wordsList) if num ==len(j)]\n",
    "        if l ==[]:\n",
    "            count=0\n",
    "            W=[]\n",
    "            for i in range(len(wordsList)):\n",
    "                a=wordsList[i]\n",
    "                count +=1  \n",
    "                for j in range(count,len(wordsList)):\n",
    "                    b=wordsList[j]\n",
    "                    L=len(a)+len(b)\n",
    "                    if L==num:\n",
    "                        new=str(a)+str(b)\n",
    "                        W.append(new)\n",
    "        else:\n",
    "            W=l\n",
    "    else:\n",
    "        W=None\n",
    "    return W           \n",
    "             "
   ]
  },
  {
   "cell_type": "code",
   "execution_count": 868,
   "metadata": {},
   "outputs": [
    {
     "data": {
      "text/plain": [
       "['firehose', 'godspeed']"
      ]
     },
     "execution_count": 868,
     "metadata": {},
     "output_type": "execute_result"
    }
   ],
   "source": [
    "wordsList = [\"fire\", \"god\", \"speed\", \"trucks\", \"hose\"]\n",
    "compoundWords(wordsList, 8)\n"
   ]
  },
  {
   "cell_type": "code",
   "execution_count": 869,
   "metadata": {},
   "outputs": [
    {
     "data": {
      "text/plain": [
       "['schooltime', 'schoolwork', 'schoolfood']"
      ]
     },
     "execution_count": 869,
     "metadata": {},
     "output_type": "execute_result"
    }
   ],
   "source": [
    "wordsList = [\"school\", \"time\", \"books\", \"work\", \"food\"]\n",
    "compoundWords(wordsList, 10)"
   ]
  },
  {
   "cell_type": "code",
   "execution_count": 870,
   "metadata": {},
   "outputs": [
    {
     "data": {
      "text/plain": [
       "['time', 'work', 'food']"
      ]
     },
     "execution_count": 870,
     "metadata": {},
     "output_type": "execute_result"
    }
   ],
   "source": [
    "wordsList = [\"school\", \"time\", \"books\", \"work\", \"food\",'a','232']\n",
    "compoundWords(wordsList, 4)"
   ]
  },
  {
   "cell_type": "code",
   "execution_count": 871,
   "metadata": {},
   "outputs": [
    {
     "name": "stdout",
     "output_type": "stream",
     "text": [
      "['ab', 'ce']\n"
     ]
    }
   ],
   "source": [
    "wordsList = [\"school\", \"time\", \"books\", \"work\", \"food\",'ab','232','ce']\n",
    "print(compoundWords(wordsList, 2))\n"
   ]
  },
  {
   "cell_type": "code",
   "execution_count": 872,
   "metadata": {},
   "outputs": [
    {
     "name": "stdout",
     "output_type": "stream",
     "text": [
      "None\n"
     ]
    }
   ],
   "source": [
    "wordsList = []\n",
    "print(compoundWords(wordsList, 2))"
   ]
  },
  {
   "cell_type": "code",
   "execution_count": null,
   "metadata": {},
   "outputs": [],
   "source": []
  }
 ],
 "metadata": {
  "kernelspec": {
   "display_name": "Python 3",
   "language": "python",
   "name": "python3"
  },
  "language_info": {
   "codemirror_mode": {
    "name": "ipython",
    "version": 3
   },
   "file_extension": ".py",
   "mimetype": "text/x-python",
   "name": "python",
   "nbconvert_exporter": "python",
   "pygments_lexer": "ipython3",
   "version": "3.7.2"
  }
 },
 "nbformat": 4,
 "nbformat_minor": 2
}
