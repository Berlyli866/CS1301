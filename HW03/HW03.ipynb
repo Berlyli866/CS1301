{
 "cells": [
  {
   "cell_type": "code",
   "execution_count": 105,
   "metadata": {},
   "outputs": [],
   "source": [
    "\n",
    "\"\"\"\n",
    "Function name: stringMultiply()\n",
    "Parameters: sentence (str), num (int)\n",
    "Returns: product (int)\n",
    "\"\"\"\n",
    "\n",
    "\n",
    "def stringMultiply(sentence,num):\n",
    "    s=str(sentence)\n",
    "    product=1\n",
    "    num=int(num)\n",
    "    if num==0:\n",
    "        return 0\n",
    "    elif s.isdigit()==True and num>0:\n",
    "        L=len(s)\n",
    "        if num>L:\n",
    "            for item in res:\n",
    "                product=product*int(item)\n",
    "            return product     \n",
    "    else:\n",
    "        res = ''.join(filter(lambda i: i.isdigit(), s))\n",
    "        L=len(res)\n",
    "        if L ==0:\n",
    "            return 1\n",
    "        else:\n",
    "            if num>=L:\n",
    "                for item in res:\n",
    "                    product=product*int(item)\n",
    "            else:\n",
    "                for a in range(num):\n",
    "                    product=product*int(res[a])\n",
    "            return product"
   ]
  },
  {
   "cell_type": "code",
   "execution_count": 113,
   "metadata": {},
   "outputs": [
    {
     "name": "stdout",
     "output_type": "stream",
     "text": [
      "18\n",
      "144\n",
      "0\n",
      "1\n"
     ]
    }
   ],
   "source": [
    "sentence = \"h311o n1c3 2 m33t u\"\n",
    "num = 6\n",
    "stringMultiply(sentence,num)\n",
    "print(stringMultiply(sentence, num))\n",
    "\n",
    "sentence = \"4nthony 4nd arv1n were h3r3\"\n",
    "num = 10\n",
    "print(stringMultiply(sentence, num))\n",
    "\n",
    "\n",
    "sentence = \"aaaa\"\n",
    "num = 0\n",
    "print(stringMultiply(sentence, num))\n",
    "\n",
    "sentence = \"aaaa\"\n",
    "num = 3\n",
    "print(stringMultiply(sentence, num))\n"
   ]
  },
  {
   "cell_type": "code",
   "execution_count": 84,
   "metadata": {},
   "outputs": [
    {
     "data": {
      "text/plain": [
       "'31113233'"
      ]
     },
     "execution_count": 84,
     "metadata": {},
     "output_type": "execute_result"
    }
   ],
   "source": [
    "# extract numbers from a str\n",
    "# method 1 \n",
    "res3 = ''.join(filter(lambda i: i.isdigit(), sentence))\n",
    "res2='aaaaa'\n",
    "res2.isdigit() #all numbers =True all str=False ,mix=False\n",
    "res3\n"
   ]
  },
  {
   "cell_type": "code",
   "execution_count": 110,
   "metadata": {},
   "outputs": [
    {
     "data": {
      "text/plain": [
       "162"
      ]
     },
     "execution_count": 110,
     "metadata": {},
     "output_type": "execute_result"
    }
   ],
   "source": [
    "# method 2 \n",
    "import re\n",
    "matches = re.findall(\"(\\d+)\", s)\n",
    "c=''.join(map(str,matches))\n",
    "product=1\n",
    "for item in c:\n",
    "    product=product*int(item)\n",
    "product"
   ]
  },
  {
   "cell_type": "code",
   "execution_count": 88,
   "metadata": {},
   "outputs": [],
   "source": [
    "\"\"\"\n",
    "Function name: longestWord()\n",
    "Parameters: sentence (str)\n",
    "Returns: a string (str)\n",
    "\"\"\"\n",
    "\n",
    "\n",
    "def longestWord(sentence):\n",
    "    l=len(sentence)\n",
    "    if l !=0:\n",
    "        a=list(sentence)\n",
    "        count=0\n",
    "        ma=0\n",
    "        u=str(0)\n",
    "        st=\"\"\n",
    "        for item in a :\n",
    "            if item != \" \":\n",
    "                count +=1\n",
    "                st +=item\n",
    "            else:\n",
    "                if count>ma:\n",
    "                    ma=count\n",
    "                    u=st\n",
    "                    st=\"\"\n",
    "                    count=0\n",
    "                elif count==ma:\n",
    "                    u=st\n",
    "                    st=\"\"\n",
    "                    count=0\n",
    "                else:\n",
    "                    st=\"\"\n",
    "                    count=0\n",
    "    else:\n",
    "        u=str(0)\n",
    "    return u              \n",
    "            \n",
    "                \n",
    "                \n",
    "                \n",
    "        \n",
    "        \n",
    "#     c=list(sentence)\n",
    "    \n",
    "#             res=[]\n",
    "#             for i in range(l):\n",
    "#                 res.append(len(c[i]))\n",
    "#             m=0    \n",
    "#             for item in res:\n",
    "#                 if item > m:\n",
    "#                     m=item    \n",
    "#                 res2=[i for i, j in enumerate(res) if j == m]\n",
    "#                 u=c[res2[-1]]\n",
    "#     else:\n",
    "#         if sentence==\" \":\n",
    "#             u=sentence\n",
    "#         else:\n",
    "#             u=str(0)\n",
    "#     return u         \n",
    "        \n"
   ]
  },
  {
   "cell_type": "code",
   "execution_count": 94,
   "metadata": {},
   "outputs": [
    {
     "name": "stdout",
     "output_type": "stream",
     "text": [
      "backaaa\n",
      "aaaalllll\n",
      "\n"
     ]
    }
   ],
   "source": [
    "sentence = \" run that backaaa turbo \"\n",
    "print(longestWord(sentence))\n",
    "\n",
    "sentence = \" jetson made anotha one aaaalllll \"\n",
    "print(longestWord(sentence))\n",
    "\n",
    "sentence =\"       \"\n",
    "print(longestWord(sentence))\n"
   ]
  },
  {
   "cell_type": "code",
   "execution_count": 36,
   "metadata": {},
   "outputs": [
    {
     "data": {
      "text/plain": [
       "4"
      ]
     },
     "execution_count": 36,
     "metadata": {},
     "output_type": "execute_result"
    }
   ],
   "source": [
    "sentence= \"a aa abc def\"\n",
    "c=sentence.split()\n",
    "l=len(c)\n",
    "l"
   ]
  },
  {
   "cell_type": "code",
   "execution_count": 37,
   "metadata": {},
   "outputs": [
    {
     "data": {
      "text/plain": [
       "[1, 2, 3, 3]"
      ]
     },
     "execution_count": 37,
     "metadata": {},
     "output_type": "execute_result"
    }
   ],
   "source": [
    "#stor the len for each word \n",
    "res=[]\n",
    "for i in range(l):\n",
    "    if l!=0:\n",
    "        res.append(len(c[i]))\n",
    "res  "
   ]
  },
  {
   "cell_type": "code",
   "execution_count": 38,
   "metadata": {},
   "outputs": [],
   "source": [
    "#get all index of the max len \n",
    "m=0    \n",
    "for item in res:\n",
    "    if item > m:\n",
    "        m=item    \n",
    "res2=[i for i, j in enumerate(res) if j == m]\n"
   ]
  },
  {
   "cell_type": "code",
   "execution_count": 39,
   "metadata": {},
   "outputs": [
    {
     "data": {
      "text/plain": [
       "[2, 3]"
      ]
     },
     "execution_count": 39,
     "metadata": {},
     "output_type": "execute_result"
    }
   ],
   "source": [
    "res2\n"
   ]
  },
  {
   "cell_type": "code",
   "execution_count": 40,
   "metadata": {},
   "outputs": [
    {
     "data": {
      "text/plain": [
       "'def'"
      ]
     },
     "execution_count": 40,
     "metadata": {},
     "output_type": "execute_result"
    }
   ],
   "source": [
    "c[res2[-1]]"
   ]
  },
  {
   "cell_type": "code",
   "execution_count": 135,
   "metadata": {},
   "outputs": [],
   "source": [
    "\"\"\"\n",
    "Function name: drawTriangle()\n",
    "Parameters: height (int)\n",
    "Returns: None\n",
    "\"\"\"\n",
    "\n",
    "def drawTriangle(height):\n",
    "         print (\"\\n\".join(map(lambda x:(str(x)+\" \")*x,range(1,height+1))))\n",
    "        \n"
   ]
  },
  {
   "cell_type": "code",
   "execution_count": 214,
   "metadata": {},
   "outputs": [],
   "source": [
    "def printTri(n):\n",
    "    for i in range(1,n+1):\n",
    "        print(' '.join(str(i)*i))\n"
   ]
  },
  {
   "cell_type": "code",
   "execution_count": 215,
   "metadata": {},
   "outputs": [
    {
     "name": "stdout",
     "output_type": "stream",
     "text": [
      "1\n",
      "2 2\n",
      "3 3 3\n",
      "4 4 4 4\n",
      "5 5 5 5 5\n",
      "6 6 6 6 6 6\n",
      "7 7 7 7 7 7 7\n",
      "8 8 8 8 8 8 8 8\n",
      "9 9 9 9 9 9 9 9 9\n"
     ]
    }
   ],
   "source": [
    "printTri(9)"
   ]
  },
  {
   "cell_type": "code",
   "execution_count": 212,
   "metadata": {},
   "outputs": [],
   "source": [
    "def drawTriangle(height):\n",
    "    print('\\n'.join([' '.join([str(i) for _ in range(i)]) for i in range(1,height+1)]))"
   ]
  },
  {
   "cell_type": "code",
   "execution_count": 213,
   "metadata": {},
   "outputs": [
    {
     "name": "stdout",
     "output_type": "stream",
     "text": [
      "1\n",
      "2 2\n",
      "3 3 3\n",
      "4 4 4 4\n",
      "5 5 5 5 5\n",
      "6 6 6 6 6 6\n",
      "7 7 7 7 7 7 7\n",
      "8 8 8 8 8 8 8 8\n",
      "9 9 9 9 9 9 9 9 9\n",
      "10 10 10 10 10 10 10 10 10 10\n"
     ]
    }
   ],
   "source": [
    "drawTriangle(10)"
   ]
  },
  {
   "cell_type": "code",
   "execution_count": 70,
   "metadata": {},
   "outputs": [],
   "source": [
    "\"\"\"\n",
    "Function name: populationGrowth()\n",
    "Parameters: start pop. (int), growth rate (float), expected pop. (int)\n",
    "Returns: years (int)\n",
    "\"\"\"\n",
    "\n",
    "def populationGrowth(start_pop,rate,expected_pop):\n",
    "    start_pop=int(start_pop)\n",
    "    year=0\n",
    "    for i in range(1000):\n",
    "        pop=start_pop*(1+float(rate/100))**i\n",
    "        year +=1\n",
    "        if pop <= int(expected_pop):\n",
    "            continue \n",
    "        return year-1    \n",
    "       \n",
    "\n",
    "    \n",
    "    \n",
    "    \n",
    "    \n",
    "    \n",
    "    "
   ]
  },
  {
   "cell_type": "code",
   "execution_count": 71,
   "metadata": {},
   "outputs": [
    {
     "name": "stdout",
     "output_type": "stream",
     "text": [
      "36\n",
      "2\n"
     ]
    }
   ],
   "source": [
    "print(populationGrowth(345936, 1.5, 584790))\n",
    "print(populationGrowth(100, 4, 108))"
   ]
  },
  {
   "cell_type": "code",
   "execution_count": 61,
   "metadata": {},
   "outputs": [],
   "source": [
    "\"\"\"\n",
    "Function name: marta()\n",
    "Parameters: path (str), start (str), end (str)\n",
    "Returns: distance (int)\n",
    "\"\"\"\n",
    "\n",
    "\n",
    "def marta(path,st,end):\n",
    "    p=list(path)\n",
    "    if st==end:\n",
    "        return 0\n",
    "    else:\n",
    "        for item in p:\n",
    "            if st==item or end==item :\n",
    "                idx1=p.index(st)\n",
    "                idx2=p.index(end)\n",
    "                c=p[idx1:idx2]\n",
    "                count=0\n",
    "                for item in c:\n",
    "                    if item=='-':\n",
    "                        count=count+1\n",
    "                return count        \n",
    "                    \n",
    "            "
   ]
  },
  {
   "cell_type": "code",
   "execution_count": 60,
   "metadata": {},
   "outputs": [
    {
     "ename": "ValueError",
     "evalue": "'d' is not in list",
     "output_type": "error",
     "traceback": [
      "\u001b[0;31m---------------------------------------------------------------------------\u001b[0m",
      "\u001b[0;31mValueError\u001b[0m                                Traceback (most recent call last)",
      "\u001b[0;32m<ipython-input-60-ec2a6a7f7de0>\u001b[0m in \u001b[0;36m<module>\u001b[0;34m\u001b[0m\n\u001b[1;32m      3\u001b[0m \u001b[0mb\u001b[0m\u001b[0;34m=\u001b[0m\u001b[0;34m'd'\u001b[0m\u001b[0;34m\u001b[0m\u001b[0;34m\u001b[0m\u001b[0m\n\u001b[1;32m      4\u001b[0m \u001b[0ma\u001b[0m\u001b[0;34m=\u001b[0m\u001b[0;34m'a'\u001b[0m\u001b[0;34m\u001b[0m\u001b[0;34m\u001b[0m\u001b[0m\n\u001b[0;32m----> 5\u001b[0;31m \u001b[0mc\u001b[0m\u001b[0;34m=\u001b[0m\u001b[0mp\u001b[0m\u001b[0;34m[\u001b[0m\u001b[0mp\u001b[0m\u001b[0;34m.\u001b[0m\u001b[0mindex\u001b[0m\u001b[0;34m(\u001b[0m\u001b[0ma\u001b[0m\u001b[0;34m)\u001b[0m\u001b[0;34m:\u001b[0m\u001b[0mp\u001b[0m\u001b[0;34m.\u001b[0m\u001b[0mindex\u001b[0m\u001b[0;34m(\u001b[0m\u001b[0mb\u001b[0m\u001b[0;34m)\u001b[0m\u001b[0;34m]\u001b[0m\u001b[0;34m\u001b[0m\u001b[0;34m\u001b[0m\u001b[0m\n\u001b[0m\u001b[1;32m      6\u001b[0m \u001b[0mcount\u001b[0m\u001b[0;34m=\u001b[0m\u001b[0;36m0\u001b[0m\u001b[0;34m\u001b[0m\u001b[0;34m\u001b[0m\u001b[0m\n\u001b[1;32m      7\u001b[0m \u001b[0;32mfor\u001b[0m \u001b[0mitem\u001b[0m \u001b[0;32min\u001b[0m \u001b[0mc\u001b[0m\u001b[0;34m:\u001b[0m\u001b[0;34m\u001b[0m\u001b[0;34m\u001b[0m\u001b[0m\n",
      "\u001b[0;31mValueError\u001b[0m: 'd' is not in list"
     ]
    }
   ],
   "source": [
    "path = \"a\"\n",
    "p=list(path)\n",
    "b='d'\n",
    "a='a'\n",
    "c=p[p.index(a):p.index(b)]\n",
    "count=0\n",
    "for item in c:\n",
    "    if item=='-':\n",
    "        count=count+1\n",
    "print(count)     \n",
    "         \n",
    "\n",
    "    "
   ]
  },
  {
   "cell_type": "code",
   "execution_count": 57,
   "metadata": {},
   "outputs": [
    {
     "data": {
      "text/plain": [
       "['a', '-', '-', '-', 'b', '-', 'c', '-', '-', '-', '-', '-']"
      ]
     },
     "execution_count": 57,
     "metadata": {},
     "output_type": "execute_result"
    }
   ],
   "source": [
    "c"
   ]
  },
  {
   "cell_type": "code",
   "execution_count": 64,
   "metadata": {},
   "outputs": [
    {
     "name": "stdout",
     "output_type": "stream",
     "text": [
      "7\n",
      "9\n"
     ]
    }
   ],
   "source": [
    "# path = \"a---b-c-----d\"\n",
    "# p=list(path)\n",
    "# b='d'\n",
    "# a='a'\n",
    "# p[p.index(a):p.index(b)]\n",
    "\n",
    "path = \"a----b---c-dd\"\n",
    "start = \"a\"\n",
    "stop = \"c\"\n",
    "print(marta(path, start, stop))\n",
    "\n",
    "\n",
    "\n",
    "path = \"a-b-c---d--e--f\"\n",
    "start = \"a\"\n",
    "stop = \"f\"\n",
    "print(marta(path, start, stop))"
   ]
  },
  {
   "cell_type": "code",
   "execution_count": null,
   "metadata": {},
   "outputs": [],
   "source": []
  },
  {
   "cell_type": "code",
   "execution_count": null,
   "metadata": {},
   "outputs": [],
   "source": []
  }
 ],
 "metadata": {
  "kernelspec": {
   "display_name": "Python 3",
   "language": "python",
   "name": "python3"
  },
  "language_info": {
   "codemirror_mode": {
    "name": "ipython",
    "version": 3
   },
   "file_extension": ".py",
   "mimetype": "text/x-python",
   "name": "python",
   "nbconvert_exporter": "python",
   "pygments_lexer": "ipython3",
   "version": "3.7.2"
  }
 },
 "nbformat": 4,
 "nbformat_minor": 2
}
