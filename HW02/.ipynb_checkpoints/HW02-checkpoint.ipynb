{
 "cells": [
  {
   "cell_type": "code",
   "execution_count": 305,
   "metadata": {},
   "outputs": [],
   "source": [
    "\n",
    "\"\"\"\n",
    "Function name: co2emissions()\n",
    "Parameters: trolleys (int), buses (int), cars (int)\n",
    "Return value: Str\n",
    "\"\"\"\n",
    "\n",
    "def co2emissions(trolleys,buses,cars):\n",
    "    amount=int(trolleys)*233+int(buses)*299+int(cars)*371\n",
    "    if amount <= 250:\n",
    "        return \"Great\"\n",
    "    elif amount >250 and amount < 1000 :\n",
    "        return \"Not Good\"\n",
    "    else:\n",
    "        return \"Bad!!\"\n",
    "   \n",
    "        \n",
    "        \n",
    "    "
   ]
  },
  {
   "cell_type": "code",
   "execution_count": 306,
   "metadata": {},
   "outputs": [
    {
     "data": {
      "text/plain": [
       "'Great'"
      ]
     },
     "execution_count": 306,
     "metadata": {},
     "output_type": "execute_result"
    }
   ],
   "source": [
    "co2emissions(1,0,0)"
   ]
  },
  {
   "cell_type": "code",
   "execution_count": 307,
   "metadata": {},
   "outputs": [
    {
     "data": {
      "text/plain": [
       "'Bad!!'"
      ]
     },
     "execution_count": 307,
     "metadata": {},
     "output_type": "execute_result"
    }
   ],
   "source": [
    "co2emissions(0,0,3)"
   ]
  },
  {
   "cell_type": "code",
   "execution_count": 308,
   "metadata": {},
   "outputs": [
    {
     "data": {
      "text/plain": [
       "'Bad!!'"
      ]
     },
     "execution_count": 308,
     "metadata": {},
     "output_type": "execute_result"
    }
   ],
   "source": [
    "co2emissions(0,0,4)"
   ]
  },
  {
   "cell_type": "code",
   "execution_count": 331,
   "metadata": {},
   "outputs": [],
   "source": [
    "\"\"\"\n",
    "Function name: supportRally()\n",
    "Parameters: students supporting movement (float), percent of students at rally (float), support level (str)\n",
    "Return value: str or float\n",
    "\"\"\"\n",
    "\n",
    "\n",
    "def supportRally(support,rally,level):\n",
    "    if level=='Outstanding support':\n",
    "        p=0.9\n",
    "    elif level=='Significant support':\n",
    "        p=0.8\n",
    "    elif level=='Moderate support':\n",
    "        p=0.7\n",
    "    a=float(p)-((1-float(rally))*float(support))\n",
    "    b=round(float(a)/float(rally)*100,2)      \n",
    "    if b >float(100):\n",
    "        return 'Not Possible'\n",
    "    else:\n",
    "        return b\n",
    "              \n",
    "              \n",
    "              \n",
    "               \n",
    "              \n",
    "        "
   ]
  },
  {
   "cell_type": "code",
   "execution_count": 332,
   "metadata": {},
   "outputs": [
    {
     "data": {
      "text/plain": [
       "84.89"
      ]
     },
     "execution_count": 332,
     "metadata": {},
     "output_type": "execute_result"
    }
   ],
   "source": [
    "supportRally(0.93, 0.37, 'Outstanding support')       "
   ]
  },
  {
   "cell_type": "code",
   "execution_count": 333,
   "metadata": {},
   "outputs": [
    {
     "data": {
      "text/plain": [
       "'Not Possible'"
      ]
     },
     "execution_count": 333,
     "metadata": {},
     "output_type": "execute_result"
    }
   ],
   "source": [
    "supportRally(0.702, 0.154, 'Significant support')"
   ]
  },
  {
   "cell_type": "code",
   "execution_count": 337,
   "metadata": {},
   "outputs": [
    {
     "data": {
      "text/plain": [
       "'Not Possible'"
      ]
     },
     "execution_count": 337,
     "metadata": {},
     "output_type": "execute_result"
    }
   ],
   "source": [
    "supportRally(.45, 0.3, 'Moderate support')"
   ]
  },
  {
   "cell_type": "code",
   "execution_count": 329,
   "metadata": {},
   "outputs": [
    {
     "data": {
      "text/plain": [
       "'Not Possible'"
      ]
     },
     "execution_count": 329,
     "metadata": {},
     "output_type": "execute_result"
    }
   ],
   "source": [
    "supportRally(.45, 0.3, 'Moderate support')"
   ]
  },
  {
   "cell_type": "code",
   "execution_count": 323,
   "metadata": {},
   "outputs": [],
   "source": [
    "\"\"\"\n",
    "Function name: isRallySuccessful()\n",
    "Parameters: level of evidence (int), students supporting movement (float), percent of students at rally (float), support level (str)\n",
    "Return value: boolean\n",
    "\"\"\"\n",
    "\n",
    "\n",
    "def isRallySuccessful(evidence,support,rally,level):\n",
    "    b=supportRally(support,rally,level)\n",
    "    if b=='Not Possible' or evidence <= 6:\n",
    "        return False\n",
    "    elif b <=100 and evidence >6:\n",
    "        return True"
   ]
  },
  {
   "cell_type": "code",
   "execution_count": 325,
   "metadata": {},
   "outputs": [
    {
     "data": {
      "text/plain": [
       "False"
      ]
     },
     "execution_count": 325,
     "metadata": {},
     "output_type": "execute_result"
    }
   ],
   "source": [
    "isRallySuccessful(5, 0.88, 0.2, 'Significant support')"
   ]
  },
  {
   "cell_type": "code",
   "execution_count": 328,
   "metadata": {},
   "outputs": [
    {
     "data": {
      "text/plain": [
       "False"
      ]
     },
     "execution_count": 328,
     "metadata": {},
     "output_type": "execute_result"
    }
   ],
   "source": [
    "isRallySuccessful(8, .67, 0.15, 'Significant support')"
   ]
  },
  {
   "cell_type": "code",
   "execution_count": 315,
   "metadata": {},
   "outputs": [
    {
     "data": {
      "text/plain": [
       "False"
      ]
     },
     "execution_count": 315,
     "metadata": {},
     "output_type": "execute_result"
    }
   ],
   "source": [
    "isRallySuccessful(4, 0.702, 0.154, 'Significant support')"
   ]
  },
  {
   "cell_type": "code",
   "execution_count": 317,
   "metadata": {},
   "outputs": [
    {
     "data": {
      "text/plain": [
       "False"
      ]
     },
     "execution_count": 317,
     "metadata": {},
     "output_type": "execute_result"
    }
   ],
   "source": [
    "isRallySuccessful(8, .67, 0.15, 'Significant support')"
   ]
  },
  {
   "cell_type": "code",
   "execution_count": 160,
   "metadata": {},
   "outputs": [],
   "source": [
    "\"\"\"\n",
    "Function name: spreadingFire()\n",
    "Parameters: square miles on fire (int), endangerment limit (int)\n",
    "Return value: str\n",
    "\"\"\"\n",
    "\n",
    "\n",
    "def spreadingFire(fire_mile,limit):\n",
    "    a=int(fire_mile)-int(limit)\n",
    "    b=a//100\n",
    "    if b<1:\n",
    "        return 'Proceed with caution'\n",
    "    if b>=1 and b<= 4:\n",
    "        level=b\n",
    "        return 'Danger Level: {}; Firebreak and Airdrop'.format(level)\n",
    "    elif b>4:\n",
    "        level=b\n",
    "        return 'Danger Level: {}; Evacuate and Full Protocol'.format(level)\n",
    "\n",
    "        \n",
    "    \n",
    "    "
   ]
  },
  {
   "cell_type": "code",
   "execution_count": 161,
   "metadata": {},
   "outputs": [
    {
     "data": {
      "text/plain": [
       "'Danger Level: 2; Firebreak and Airdrop'"
      ]
     },
     "execution_count": 161,
     "metadata": {},
     "output_type": "execute_result"
    }
   ],
   "source": [
    "spreadingFire(250, 50)"
   ]
  },
  {
   "cell_type": "code",
   "execution_count": 162,
   "metadata": {},
   "outputs": [
    {
     "data": {
      "text/plain": [
       "'Danger Level: 7; Evacuate and Full Protocol'"
      ]
     },
     "execution_count": 162,
     "metadata": {},
     "output_type": "execute_result"
    }
   ],
   "source": [
    "spreadingFire(775, 35)"
   ]
  },
  {
   "cell_type": "code",
   "execution_count": 163,
   "metadata": {
    "scrolled": true
   },
   "outputs": [
    {
     "data": {
      "text/plain": [
       "'Proceed with caution'"
      ]
     },
     "execution_count": 163,
     "metadata": {},
     "output_type": "execute_result"
    }
   ],
   "source": [
    "spreadingFire(99, 35)"
   ]
  },
  {
   "cell_type": "code",
   "execution_count": 301,
   "metadata": {},
   "outputs": [],
   "source": [
    "\"\"\"\n",
    "Function name: recycle()\n",
    "Parameters: soda (int), bags (int), forks (int), caps (int)\n",
    "Return value: None\n",
    "\"\"\"\n",
    "\n",
    "\n",
    "def recycle(bottles,bags,forks,caps):\n",
    "    pete_w=37.3*int(bottles) \n",
    "    hdpe_W=5*int(bags)\n",
    "    pp_w=2.5*int(forks)+2.4*int(caps)\n",
    "    pete=int(bottles)\n",
    "    hdpe=int(bags)\n",
    "    pp=int(forks)+int(caps)\n",
    "    gi=0\n",
    "    yi=0\n",
    "    ri=0\n",
    "    if pete<5 and pete_w>60:\n",
    "        gi +=pete\n",
    "        if pp>10 and pp_w >60:\n",
    "            gi =+pp \n",
    "        elif pp_w<60 or hdpe !=0:\n",
    "            yi=pp+hdpe\n",
    "        elif pp<10 and pp_w>60:\n",
    "            ri +=pp\n",
    "    elif pete>5 and pete_w>60:\n",
    "        yi +=pete\n",
    "        if pp_w<60 or hdpe!=0:\n",
    "            yi=yi+pp+hdpe  \n",
    "        elif pp<10 and pp_w>60:\n",
    "            ri +=pp              \n",
    "    elif pete_w<60:\n",
    "        ri +=pete\n",
    "        if pp<10 and pp_w>60:\n",
    "            ri +=pp\n",
    "        elif pp_w<60 or hdpe!=0:\n",
    "            yi=yi+pp+hdpe \n",
    "    return 'Green:{}, Yello:{}, Red:{}'.format(gi,yi,ri)\n",
    "    \n",
    "        \n",
    "    \n",
    "    \n",
    "    \n",
    "    \n",
    "    "
   ]
  },
  {
   "cell_type": "code",
   "execution_count": 302,
   "metadata": {},
   "outputs": [
    {
     "data": {
      "text/plain": [
       "'Green:2, Yello:2, Red:0'"
      ]
     },
     "execution_count": 302,
     "metadata": {},
     "output_type": "execute_result"
    }
   ],
   "source": [
    "recycle(2,1,0,1)"
   ]
  },
  {
   "cell_type": "code",
   "execution_count": 303,
   "metadata": {},
   "outputs": [
    {
     "data": {
      "text/plain": [
       "'Green:0, Yello:14, Red:1'"
      ]
     },
     "execution_count": 303,
     "metadata": {},
     "output_type": "execute_result"
    }
   ],
   "source": [
    "recycle(1,0,11,3)"
   ]
  },
  {
   "cell_type": "code",
   "execution_count": 304,
   "metadata": {},
   "outputs": [
    {
     "data": {
      "text/plain": [
       "'Green:0, Yello:8, Red:1'"
      ]
     },
     "execution_count": 304,
     "metadata": {},
     "output_type": "execute_result"
    }
   ],
   "source": [
    "recycle(1,2,3,3)"
   ]
  },
  {
   "cell_type": "code",
   "execution_count": null,
   "metadata": {},
   "outputs": [],
   "source": []
  }
 ],
 "metadata": {
  "kernelspec": {
   "display_name": "Python 3",
   "language": "python",
   "name": "python3"
  },
  "language_info": {
   "codemirror_mode": {
    "name": "ipython",
    "version": 3
   },
   "file_extension": ".py",
   "mimetype": "text/x-python",
   "name": "python",
   "nbconvert_exporter": "python",
   "pygments_lexer": "ipython3",
   "version": "3.7.2"
  }
 },
 "nbformat": 4,
 "nbformat_minor": 2
}
